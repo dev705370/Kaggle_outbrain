{
  "metadata": {
    "kernelspec": {
      "display_name": "Python 3",
      "language": "python",
      "name": "python3"
    },
    "language_info": {
      "codemirror_mode": {
        "name": "ipython",
        "version": 3
      },
      "file_extension": ".py",
      "mimetype": "text/x-python",
      "name": "python",
      "nbconvert_exporter": "python",
      "pygments_lexer": "ipython3",
      "version": "3.5.2"
    }
  },
  "nbformat": 4,
  "nbformat_minor": 0,
  "cells": [
    {
      "cell_type": "markdown",
      "source": null,
      "execution_count": null,
      "outputs": [],
      "metadata": {}
    },
    {
      "cell_type": "code",
      "source": "# This Python 3 environment comes with many helpful analytics libraries installed\n# It is defined by the kaggle/python docker image: https://github.com/kaggle/docker-python\n# For example, here's several helpful packages to load in \n\nimport numpy as np # linear algebra\nimport pandas as pd # data processing, CSV file I/O (e.g. pd.read_csv)\n\n# Input data files are available in the \"../input/\" directory.\n# For example, running this (by clicking run or pressing Shift+Enter) will list the files in the input directory\n\nfrom subprocess import check_output\nprint(check_output([\"ls\", \"../input\"]).decode(\"utf8\"))\n\n# Any results you write to the current directory are saved as output.",
      "execution_count": 1,
      "outputs": [
        {
          "name": "stdout",
          "output_type": "stream",
          "text": "clicks_test.csv\nclicks_train.csv\ndocuments_categories.csv\ndocuments_entities.csv\ndocuments_meta.csv\ndocuments_topics.csv\nevents.csv\npage_views_sample.csv\npromoted_content.csv\nsample_submission.csv\n\n"
        }
      ],
      "metadata": {}
    },
    {
      "cell_type": "code",
      "source": "clicks_train_pd = pd.read_csv('../input/clicks_train.csv')\nclicks_train_pd.shape",
      "execution_count": null,
      "outputs": [],
      "metadata": {}
    },
    {
      "cell_type": "code",
      "source": "clicks_train_pd.columns",
      "execution_count": null,
      "outputs": [],
      "metadata": {}
    },
    {
      "cell_type": "code",
      "source": "print(clicks_train_pd.display_id.unique().shape)\nprint(clicks_train_pd.ad_id.unique().shape)",
      "execution_count": null,
      "outputs": [],
      "metadata": {}
    },
    {
      "cell_type": "code",
      "source": "topic_data = pd.read_csv('../input/documents_topics.csv')\ntopic_data.shape",
      "execution_count": null,
      "outputs": [],
      "metadata": {}
    },
    {
      "cell_type": "code",
      "source": "print(topic_data.document_id.unique().shape)\nprint(topic_data.topic_id.unique().shape)",
      "execution_count": null,
      "outputs": [],
      "metadata": {}
    },
    {
      "cell_type": "code",
      "source": "meta_data = pd.read_csv('../input/documents_meta.csv')\nmeta_data.shape",
      "execution_count": null,
      "outputs": [],
      "metadata": {}
    },
    {
      "cell_type": "code",
      "source": "print(meta_data.document_id.unique().shape)",
      "execution_count": null,
      "outputs": [],
      "metadata": {}
    },
    {
      "cell_type": "code",
      "source": "promoted_data = pd.read_csv('../input/promoted_content.csv')\npromoted_data.shape",
      "execution_count": 2,
      "outputs": [
        {
          "data": {
            "text/plain": "(559583, 4)"
          },
          "execution_count": 2,
          "metadata": {},
          "output_type": "execute_result"
        }
      ],
      "metadata": {}
    },
    {
      "cell_type": "code",
      "source": "print(promoted_data.document_id.unique().shape)\nprint(promoted_data.ad_id.unique().shape)",
      "execution_count": null,
      "outputs": [],
      "metadata": {}
    },
    {
      "cell_type": "code",
      "source": "events_data=pd.read_csv('../input/events.csv')\nevents_data.shape",
      "execution_count": null,
      "outputs": [],
      "metadata": {}
    },
    {
      "cell_type": "code",
      "source": "print(events_data.display_id.unique().shape)\nprint(events_data.uuid.unique().shape)\nprint(events_data.document_id.unique().shape)",
      "execution_count": null,
      "outputs": [],
      "metadata": {}
    },
    {
      "cell_type": "code",
      "source": "events_data['uuid_doc_id'] = events_data.apply(lambda x: str(x.uuid) + str(x.document_id), axis = 1)\nevents_data['uuid_doc_id'].unique().shape",
      "execution_count": null,
      "outputs": [],
      "metadata": {}
    },
    {
      "cell_type": "code",
      "source": "test_data = pd.read_csv('../input/clicks_test.csv')\ntest_data.shape",
      "execution_count": 3,
      "outputs": [
        {
          "data": {
            "text/plain": "(32225162, 2)"
          },
          "execution_count": 3,
          "metadata": {},
          "output_type": "execute_result"
        }
      ],
      "metadata": {}
    },
    {
      "cell_type": "code",
      "source": "ad_ids = test_data.ad_id.unique()\nad_ids.shape",
      "execution_count": 4,
      "outputs": [
        {
          "data": {
            "text/plain": "(381385,)"
          },
          "execution_count": 4,
          "metadata": {},
          "output_type": "execute_result"
        }
      ],
      "metadata": {}
    },
    {
      "cell_type": "code",
      "source": "train_data = pd.read_csv('../input/clicks_train.csv')\ntrain_data.shape",
      "execution_count": 5,
      "outputs": [
        {
          "data": {
            "text/plain": "(87141731, 3)"
          },
          "execution_count": 5,
          "metadata": {},
          "output_type": "execute_result"
        }
      ],
      "metadata": {}
    },
    {
      "cell_type": "code",
      "source": "ad_ids = np.hstack([ad_ids, train_data.ad_id.unique()])\nad_ids.shape",
      "execution_count": 13,
      "outputs": [
        {
          "data": {
            "text/plain": "(860335,)"
          },
          "execution_count": 13,
          "metadata": {},
          "output_type": "execute_result"
        }
      ],
      "metadata": {}
    },
    {
      "cell_type": "code",
      "source": "np.unique(ad_ids).shape",
      "execution_count": 15,
      "outputs": [
        {
          "data": {
            "text/plain": "(544300,)"
          },
          "execution_count": 15,
          "metadata": {},
          "output_type": "execute_result"
        }
      ],
      "metadata": {}
    },
    {
      "cell_type": "code",
      "source": "test_data['clicked'] = 0",
      "execution_count": null,
      "outputs": [],
      "metadata": {}
    },
    {
      "cell_type": "code",
      "source": "train_test_data = pd.concat([train_data, test_data])\ntrain_test_data.shape",
      "execution_count": null,
      "outputs": [],
      "metadata": {}
    },
    {
      "cell_type": "code",
      "source": "train_test_data.display_id.unique().shape",
      "execution_count": null,
      "outputs": [],
      "metadata": {}
    },
    {
      "cell_type": "code",
      "source": null,
      "execution_count": null,
      "outputs": [],
      "metadata": {}
    }
  ]
}